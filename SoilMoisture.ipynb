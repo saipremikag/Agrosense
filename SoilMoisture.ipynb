{
 "cells": [
  {
   "cell_type": "markdown",
   "metadata": {},
   "source": [
    "# Importing Packages"
   ]
  },
  {
   "cell_type": "code",
   "execution_count": 1,
   "metadata": {},
   "outputs": [],
   "source": [
    "import pandas as pd\n",
    "import matplotlib.pyplot as plt\n",
    "import seaborn as sns\n",
    "import numpy as np"
   ]
  },
  {
   "cell_type": "markdown",
   "metadata": {},
   "source": [
    "# Data Exploration"
   ]
  },
  {
   "cell_type": "code",
   "execution_count": 2,
   "metadata": {},
   "outputs": [
    {
     "data": {
      "text/html": [
       "<div>\n",
       "<style scoped>\n",
       "    .dataframe tbody tr th:only-of-type {\n",
       "        vertical-align: middle;\n",
       "    }\n",
       "\n",
       "    .dataframe tbody tr th {\n",
       "        vertical-align: top;\n",
       "    }\n",
       "\n",
       "    .dataframe thead th {\n",
       "        text-align: right;\n",
       "    }\n",
       "</style>\n",
       "<table border=\"1\" class=\"dataframe\">\n",
       "  <thead>\n",
       "    <tr style=\"text-align: right;\">\n",
       "      <th></th>\n",
       "      <th>Soil Moisture</th>\n",
       "      <th>Temperature</th>\n",
       "      <th>Soil Humidity</th>\n",
       "      <th>Time</th>\n",
       "      <th>Air temperature (C)</th>\n",
       "      <th>Wind speed (Km/h)</th>\n",
       "      <th>Air humidity (%)</th>\n",
       "      <th>Wind gust (Km/h)</th>\n",
       "      <th>Pressure (KPa)</th>\n",
       "      <th>ph</th>\n",
       "      <th>rainfall</th>\n",
       "      <th>N</th>\n",
       "      <th>P</th>\n",
       "      <th>K</th>\n",
       "      <th>Status</th>\n",
       "    </tr>\n",
       "  </thead>\n",
       "  <tbody>\n",
       "    <tr>\n",
       "      <th>0</th>\n",
       "      <td>54</td>\n",
       "      <td>22</td>\n",
       "      <td>70</td>\n",
       "      <td>21</td>\n",
       "      <td>19.52</td>\n",
       "      <td>2.13</td>\n",
       "      <td>55.04</td>\n",
       "      <td>6.30</td>\n",
       "      <td>101.50</td>\n",
       "      <td>6.502985</td>\n",
       "      <td>202.935536</td>\n",
       "      <td>90.0</td>\n",
       "      <td>42.0</td>\n",
       "      <td>43.0</td>\n",
       "      <td>ON</td>\n",
       "    </tr>\n",
       "    <tr>\n",
       "      <th>1</th>\n",
       "      <td>12</td>\n",
       "      <td>20</td>\n",
       "      <td>40</td>\n",
       "      <td>104</td>\n",
       "      <td>19.49</td>\n",
       "      <td>2.01</td>\n",
       "      <td>55.17</td>\n",
       "      <td>10.46</td>\n",
       "      <td>101.50</td>\n",
       "      <td>7.038096</td>\n",
       "      <td>226.655537</td>\n",
       "      <td>85.0</td>\n",
       "      <td>58.0</td>\n",
       "      <td>41.0</td>\n",
       "      <td>OFF</td>\n",
       "    </tr>\n",
       "    <tr>\n",
       "      <th>2</th>\n",
       "      <td>34</td>\n",
       "      <td>26</td>\n",
       "      <td>35</td>\n",
       "      <td>62</td>\n",
       "      <td>19.47</td>\n",
       "      <td>1.90</td>\n",
       "      <td>55.30</td>\n",
       "      <td>14.63</td>\n",
       "      <td>101.51</td>\n",
       "      <td>7.840207</td>\n",
       "      <td>263.964248</td>\n",
       "      <td>60.0</td>\n",
       "      <td>55.0</td>\n",
       "      <td>44.0</td>\n",
       "      <td>ON</td>\n",
       "    </tr>\n",
       "    <tr>\n",
       "      <th>3</th>\n",
       "      <td>7</td>\n",
       "      <td>44</td>\n",
       "      <td>44</td>\n",
       "      <td>93</td>\n",
       "      <td>19.54</td>\n",
       "      <td>2.28</td>\n",
       "      <td>54.20</td>\n",
       "      <td>16.08</td>\n",
       "      <td>101.51</td>\n",
       "      <td>6.980401</td>\n",
       "      <td>242.864034</td>\n",
       "      <td>74.0</td>\n",
       "      <td>35.0</td>\n",
       "      <td>40.0</td>\n",
       "      <td>OFF</td>\n",
       "    </tr>\n",
       "    <tr>\n",
       "      <th>4</th>\n",
       "      <td>50</td>\n",
       "      <td>38</td>\n",
       "      <td>23</td>\n",
       "      <td>92</td>\n",
       "      <td>19.61</td>\n",
       "      <td>2.66</td>\n",
       "      <td>53.09</td>\n",
       "      <td>17.52</td>\n",
       "      <td>101.51</td>\n",
       "      <td>7.628473</td>\n",
       "      <td>262.717340</td>\n",
       "      <td>78.0</td>\n",
       "      <td>42.0</td>\n",
       "      <td>42.0</td>\n",
       "      <td>OFF</td>\n",
       "    </tr>\n",
       "  </tbody>\n",
       "</table>\n",
       "</div>"
      ],
      "text/plain": [
       "   Soil Moisture  Temperature   Soil Humidity  Time  Air temperature (C)  \\\n",
       "0             54           22              70    21                19.52   \n",
       "1             12           20              40   104                19.49   \n",
       "2             34           26              35    62                19.47   \n",
       "3              7           44              44    93                19.54   \n",
       "4             50           38              23    92                19.61   \n",
       "\n",
       "   Wind speed (Km/h)  Air humidity (%)  Wind gust (Km/h)  Pressure (KPa)  \\\n",
       "0               2.13             55.04              6.30          101.50   \n",
       "1               2.01             55.17             10.46          101.50   \n",
       "2               1.90             55.30             14.63          101.51   \n",
       "3               2.28             54.20             16.08          101.51   \n",
       "4               2.66             53.09             17.52          101.51   \n",
       "\n",
       "         ph    rainfall     N     P     K Status  \n",
       "0  6.502985  202.935536  90.0  42.0  43.0     ON  \n",
       "1  7.038096  226.655537  85.0  58.0  41.0    OFF  \n",
       "2  7.840207  263.964248  60.0  55.0  44.0     ON  \n",
       "3  6.980401  242.864034  74.0  35.0  40.0    OFF  \n",
       "4  7.628473  262.717340  78.0  42.0  42.0    OFF  "
      ]
     },
     "execution_count": 2,
     "metadata": {},
     "output_type": "execute_result"
    }
   ],
   "source": [
    "df = pd.read_csv(\"data/archive/TARP.csv\")\n",
    "\n",
    "df.head()"
   ]
  },
  {
   "cell_type": "markdown",
   "metadata": {},
   "source": [
    "# Data Processing"
   ]
  },
  {
   "cell_type": "code",
   "execution_count": 3,
   "metadata": {},
   "outputs": [
    {
     "name": "stdout",
     "output_type": "stream",
     "text": [
      "<class 'pandas.core.frame.DataFrame'>\n",
      "RangeIndex: 100000 entries, 0 to 99999\n",
      "Data columns (total 15 columns):\n",
      "Soil Moisture          100000 non-null int64\n",
      "Temperature            100000 non-null int64\n",
      " Soil Humidity         100000 non-null int64\n",
      "Time                   100000 non-null int64\n",
      "Air temperature (C)    23995 non-null float64\n",
      "Wind speed (Km/h)      23995 non-null float64\n",
      "Air humidity (%)       23995 non-null float64\n",
      "Wind gust (Km/h)       23995 non-null float64\n",
      "Pressure (KPa)         23995 non-null float64\n",
      "ph                     2200 non-null float64\n",
      "rainfall               2200 non-null float64\n",
      "N                      2200 non-null float64\n",
      "P                      2200 non-null float64\n",
      "K                      2200 non-null float64\n",
      "Status                 100000 non-null object\n",
      "dtypes: float64(10), int64(4), object(1)\n",
      "memory usage: 11.4+ MB\n"
     ]
    }
   ],
   "source": [
    "df.info()"
   ]
  },
  {
   "cell_type": "code",
   "execution_count": 4,
   "metadata": {},
   "outputs": [
    {
     "name": "stdout",
     "output_type": "stream",
     "text": [
      "Soil Moisture              0\n",
      "Temperature                0\n",
      " Soil Humidity             0\n",
      "Time                       0\n",
      "Air temperature (C)    76005\n",
      "Wind speed (Km/h)      76005\n",
      "Air humidity (%)       76005\n",
      "Wind gust (Km/h)       76005\n",
      "Pressure (KPa)         76005\n",
      "ph                     97800\n",
      "rainfall               97800\n",
      "N                      97800\n",
      "P                      97800\n",
      "K                      97800\n",
      "Status                     0\n",
      "dtype: int64\n"
     ]
    }
   ],
   "source": [
    "missing_data = df.isnull().sum()\n",
    "print(missing_data)"
   ]
  },
  {
   "cell_type": "code",
   "execution_count": 6,
   "metadata": {},
   "outputs": [
    {
     "name": "stdout",
     "output_type": "stream",
     "text": [
      "Index(['Soil Moisture', 'Temperature', ' Soil Humidity', 'Time',\n",
      "       'Air temperature (C)', 'Wind speed (Km/h)', 'Air humidity (%)',\n",
      "       'Wind gust (Km/h)', 'Pressure (KPa)', 'ph', 'rainfall', 'N', 'P', 'K',\n",
      "       'Status'],\n",
      "      dtype='object')\n"
     ]
    }
   ],
   "source": [
    "objList = df.columns\n",
    "print(objList)"
   ]
  },
  {
   "cell_type": "code",
   "execution_count": 7,
   "metadata": {},
   "outputs": [],
   "source": [
    "data = df.drop(['ph', 'rainfall', 'N', 'P', 'K',], axis=1, errors='ignore')"
   ]
  },
  {
   "cell_type": "code",
   "execution_count": 9,
   "metadata": {},
   "outputs": [],
   "source": [
    "data = data.dropna(how = 'any')"
   ]
  },
  {
   "cell_type": "code",
   "execution_count": 10,
   "metadata": {},
   "outputs": [
    {
     "name": "stdout",
     "output_type": "stream",
     "text": [
      "<class 'pandas.core.frame.DataFrame'>\n",
      "Int64Index: 23995 entries, 0 to 26300\n",
      "Data columns (total 10 columns):\n",
      "Soil Moisture          23995 non-null int64\n",
      "Temperature            23995 non-null int64\n",
      " Soil Humidity         23995 non-null int64\n",
      "Time                   23995 non-null int64\n",
      "Air temperature (C)    23995 non-null float64\n",
      "Wind speed (Km/h)      23995 non-null float64\n",
      "Air humidity (%)       23995 non-null float64\n",
      "Wind gust (Km/h)       23995 non-null float64\n",
      "Pressure (KPa)         23995 non-null float64\n",
      "Status                 23995 non-null object\n",
      "dtypes: float64(5), int64(4), object(1)\n",
      "memory usage: 2.0+ MB\n"
     ]
    }
   ],
   "source": [
    "data.info()"
   ]
  },
  {
   "cell_type": "code",
   "execution_count": 11,
   "metadata": {},
   "outputs": [
    {
     "data": {
      "text/html": [
       "<div>\n",
       "<style scoped>\n",
       "    .dataframe tbody tr th:only-of-type {\n",
       "        vertical-align: middle;\n",
       "    }\n",
       "\n",
       "    .dataframe tbody tr th {\n",
       "        vertical-align: top;\n",
       "    }\n",
       "\n",
       "    .dataframe thead th {\n",
       "        text-align: right;\n",
       "    }\n",
       "</style>\n",
       "<table border=\"1\" class=\"dataframe\">\n",
       "  <thead>\n",
       "    <tr style=\"text-align: right;\">\n",
       "      <th></th>\n",
       "      <th>Soil Moisture</th>\n",
       "      <th>Temperature</th>\n",
       "      <th>Soil Humidity</th>\n",
       "      <th>Time</th>\n",
       "      <th>Air temperature (C)</th>\n",
       "      <th>Wind speed (Km/h)</th>\n",
       "      <th>Air humidity (%)</th>\n",
       "      <th>Wind gust (Km/h)</th>\n",
       "      <th>Pressure (KPa)</th>\n",
       "      <th>Status</th>\n",
       "    </tr>\n",
       "  </thead>\n",
       "  <tbody>\n",
       "    <tr>\n",
       "      <th>0</th>\n",
       "      <td>54</td>\n",
       "      <td>22</td>\n",
       "      <td>70</td>\n",
       "      <td>21</td>\n",
       "      <td>19.52</td>\n",
       "      <td>2.13</td>\n",
       "      <td>55.04</td>\n",
       "      <td>6.30</td>\n",
       "      <td>101.50</td>\n",
       "      <td>ON</td>\n",
       "    </tr>\n",
       "    <tr>\n",
       "      <th>1</th>\n",
       "      <td>12</td>\n",
       "      <td>20</td>\n",
       "      <td>40</td>\n",
       "      <td>104</td>\n",
       "      <td>19.49</td>\n",
       "      <td>2.01</td>\n",
       "      <td>55.17</td>\n",
       "      <td>10.46</td>\n",
       "      <td>101.50</td>\n",
       "      <td>OFF</td>\n",
       "    </tr>\n",
       "    <tr>\n",
       "      <th>2</th>\n",
       "      <td>34</td>\n",
       "      <td>26</td>\n",
       "      <td>35</td>\n",
       "      <td>62</td>\n",
       "      <td>19.47</td>\n",
       "      <td>1.90</td>\n",
       "      <td>55.30</td>\n",
       "      <td>14.63</td>\n",
       "      <td>101.51</td>\n",
       "      <td>ON</td>\n",
       "    </tr>\n",
       "    <tr>\n",
       "      <th>3</th>\n",
       "      <td>7</td>\n",
       "      <td>44</td>\n",
       "      <td>44</td>\n",
       "      <td>93</td>\n",
       "      <td>19.54</td>\n",
       "      <td>2.28</td>\n",
       "      <td>54.20</td>\n",
       "      <td>16.08</td>\n",
       "      <td>101.51</td>\n",
       "      <td>OFF</td>\n",
       "    </tr>\n",
       "    <tr>\n",
       "      <th>4</th>\n",
       "      <td>50</td>\n",
       "      <td>38</td>\n",
       "      <td>23</td>\n",
       "      <td>92</td>\n",
       "      <td>19.61</td>\n",
       "      <td>2.66</td>\n",
       "      <td>53.09</td>\n",
       "      <td>17.52</td>\n",
       "      <td>101.51</td>\n",
       "      <td>OFF</td>\n",
       "    </tr>\n",
       "  </tbody>\n",
       "</table>\n",
       "</div>"
      ],
      "text/plain": [
       "   Soil Moisture  Temperature   Soil Humidity  Time  Air temperature (C)  \\\n",
       "0             54           22              70    21                19.52   \n",
       "1             12           20              40   104                19.49   \n",
       "2             34           26              35    62                19.47   \n",
       "3              7           44              44    93                19.54   \n",
       "4             50           38              23    92                19.61   \n",
       "\n",
       "   Wind speed (Km/h)  Air humidity (%)  Wind gust (Km/h)  Pressure (KPa)  \\\n",
       "0               2.13             55.04              6.30          101.50   \n",
       "1               2.01             55.17             10.46          101.50   \n",
       "2               1.90             55.30             14.63          101.51   \n",
       "3               2.28             54.20             16.08          101.51   \n",
       "4               2.66             53.09             17.52          101.51   \n",
       "\n",
       "  Status  \n",
       "0     ON  \n",
       "1    OFF  \n",
       "2     ON  \n",
       "3    OFF  \n",
       "4    OFF  "
      ]
     },
     "execution_count": 11,
     "metadata": {},
     "output_type": "execute_result"
    }
   ],
   "source": [
    "data.head()"
   ]
  },
  {
   "cell_type": "markdown",
   "metadata": {},
   "source": [
    "# Visualization"
   ]
  },
  {
   "cell_type": "code",
   "execution_count": 12,
   "metadata": {},
   "outputs": [
    {
     "name": "stderr",
     "output_type": "stream",
     "text": [
      "/home/user/test/lib/python3.6/site-packages/seaborn/_decorators.py:43: FutureWarning: Pass the following variables as keyword args: x, y. From version 0.12, the only valid positional argument will be `data`, and passing other arguments without an explicit keyword will result in an error or misinterpretation.\n",
      "  FutureWarning\n"
     ]
    },
    {
     "data": {
      "text/plain": [
       "<matplotlib.axes._subplots.AxesSubplot at 0x7fba6680e6d8>"
      ]
     },
     "execution_count": 12,
     "metadata": {},
     "output_type": "execute_result"
    },
    {
     "data": {
      "image/png": "[encoded data removed]",
      "text/plain": [
       "<Figure size 432x288 with 1 Axes>"
      ]
     },
     "metadata": {
      "needs_background": "light"
     },
     "output_type": "display_data"
    }
   ],
   "source": [
    "sns.lineplot(data[\"Soil Moisture\"],data[\"Status\"])"
   ]
  },
  {
   "cell_type": "code",
   "execution_count": 13,
   "metadata": {},
   "outputs": [
    {
     "name": "stderr",
     "output_type": "stream",
     "text": [
      "/home/user/test/lib/python3.6/site-packages/seaborn/_decorators.py:43: FutureWarning: Pass the following variables as keyword args: x, y. From version 0.12, the only valid positional argument will be `data`, and passing other arguments without an explicit keyword will result in an error or misinterpretation.\n",
      "  FutureWarning\n"
     ]
    },
    {
     "data": {
      "text/plain": [
       "(array([-10.,   0.,  10.,  20.,  30.,  40.,  50.]),\n",
       " <a list of 7 Text major ticklabel objects>)"
      ]
     },
     "execution_count": 13,
     "metadata": {},
     "output_type": "execute_result"
    },
    {
     "data": {
      "image/png": "[encoded data removed]",
      "text/plain": [
       "<Figure size 1800x720 with 1 Axes>"
      ]
     },
     "metadata": {
      "needs_background": "light"
     },
     "output_type": "display_data"
    }
   ],
   "source": [
    "plt.figure(figsize=(25,10))\n",
    "sns.lineplot(data[\"Temperature\"],data[\"Status\"])\n",
    "plt.xticks(rotation=90)"
   ]
  },
  {
   "cell_type": "markdown",
   "metadata": {},
   "source": [
    "# Data Cleaning"
   ]
  },
  {
   "cell_type": "code",
   "execution_count": 14,
   "metadata": {},
   "outputs": [
    {
     "name": "stdout",
     "output_type": "stream",
     "text": [
      "<class 'pandas.core.frame.DataFrame'>\n",
      "Int64Index: 23995 entries, 0 to 26300\n",
      "Data columns (total 10 columns):\n",
      "Soil Moisture          23995 non-null int64\n",
      "Temperature            23995 non-null int64\n",
      " Soil Humidity         23995 non-null int64\n",
      "Time                   23995 non-null int64\n",
      "Air temperature (C)    23995 non-null float64\n",
      "Wind speed (Km/h)      23995 non-null float64\n",
      "Air humidity (%)       23995 non-null float64\n",
      "Wind gust (Km/h)       23995 non-null float64\n",
      "Pressure (KPa)         23995 non-null float64\n",
      "Status                 23995 non-null object\n",
      "dtypes: float64(5), int64(4), object(1)\n",
      "memory usage: 2.0+ MB\n"
     ]
    }
   ],
   "source": [
    "data.info()"
   ]
  },
  {
   "cell_type": "code",
   "execution_count": 15,
   "metadata": {},
   "outputs": [
    {
     "data": {
      "text/plain": [
       "array([1, 0])"
      ]
     },
     "execution_count": 15,
     "metadata": {},
     "output_type": "execute_result"
    }
   ],
   "source": [
    "from sklearn import preprocessing\n",
    "  \n",
    "# label_encoder object knows how to understand word labels.\n",
    "label_encoder = preprocessing.LabelEncoder()\n",
    "  \n",
    "# Encode labels in column 'species'.\n",
    "data['Status']= label_encoder.fit_transform(data['Status'])\n",
    "data['Status'].unique()"
   ]
  },
  {
   "cell_type": "code",
   "execution_count": 16,
   "metadata": {},
   "outputs": [
    {
     "name": "stdout",
     "output_type": "stream",
     "text": [
      "<class 'pandas.core.frame.DataFrame'>\n",
      "Int64Index: 23995 entries, 0 to 26300\n",
      "Data columns (total 10 columns):\n",
      "Soil Moisture          23995 non-null int64\n",
      "Temperature            23995 non-null int64\n",
      " Soil Humidity         23995 non-null int64\n",
      "Time                   23995 non-null int64\n",
      "Air temperature (C)    23995 non-null float64\n",
      "Wind speed (Km/h)      23995 non-null float64\n",
      "Air humidity (%)       23995 non-null float64\n",
      "Wind gust (Km/h)       23995 non-null float64\n",
      "Pressure (KPa)         23995 non-null float64\n",
      "Status                 23995 non-null int64\n",
      "dtypes: float64(5), int64(5)\n",
      "memory usage: 2.0 MB\n"
     ]
    }
   ],
   "source": [
    "data.info()"
   ]
  },
  {
   "cell_type": "code",
   "execution_count": 17,
   "metadata": {},
   "outputs": [
    {
     "name": "stdout",
     "output_type": "stream",
     "text": [
      "(23995, 10)\n"
     ]
    }
   ],
   "source": [
    "print(data.shape)"
   ]
  },
  {
   "cell_type": "markdown",
   "metadata": {},
   "source": [
    "# Feature Selection and Data Splitting"
   ]
  },
  {
   "cell_type": "code",
   "execution_count": 18,
   "metadata": {},
   "outputs": [
    {
     "name": "stdout",
     "output_type": "stream",
     "text": [
      "x_train : (16076, 9)\n",
      "x_test : (7919, 9)\n",
      "y_train : (16076,)\n",
      "y_test : (7919,)\n"
     ]
    }
   ],
   "source": [
    "x = data.iloc[:, 0:9]\n",
    "y = data.iloc[:,9]\n",
    "from sklearn.model_selection import train_test_split\n",
    "x_train,x_test,y_train,y_test = train_test_split(x,y,test_size=0.33, random_state=42)\n",
    "print(\"x_train :\",x_train.shape)\n",
    "print(\"x_test :\",x_test.shape)\n",
    "print(\"y_train :\",y_train.shape)\n",
    "print(\"y_test :\",y_test.shape)"
   ]
  },
  {
   "cell_type": "code",
   "execution_count": 19,
   "metadata": {},
   "outputs": [],
   "source": [
    "from sklearn.model_selection import cross_val_score\n",
    "from sklearn.metrics import classification_report\n",
    "from sklearn.metrics import confusion_matrix\n",
    "from sklearn.metrics import accuracy_score"
   ]
  },
  {
   "cell_type": "markdown",
   "metadata": {},
   "source": [
    "# Random Forest Regressor"
   ]
  },
  {
   "cell_type": "code",
   "execution_count": 20,
   "metadata": {},
   "outputs": [],
   "source": [
    "from sklearn.ensemble import RandomForestClassifier\n",
    "RF = RandomForestClassifier()\n",
    "RF.fit(x_train, y_train)\n",
    "predictions = RF.predict(x_test)"
   ]
  },
  {
   "cell_type": "code",
   "execution_count": 21,
   "metadata": {},
   "outputs": [
    {
     "name": "stdout",
     "output_type": "stream",
     "text": [
      "*Confusion Matrix for RF: \n",
      "[[3494  100]\n",
      " [  42 4283]]\n",
      "98.20684429852254\n"
     ]
    }
   ],
   "source": [
    "print(\"*Confusion Matrix for RF: \")\n",
    "print(confusion_matrix(y_test, predictions))\n",
    "val1 = accuracy_score(y_test, predictions) *100\n",
    "print(val1)"
   ]
  },
  {
   "cell_type": "code",
   "execution_count": 22,
   "metadata": {},
   "outputs": [
    {
     "name": "stdout",
     "output_type": "stream",
     "text": [
      "*Classification Report for RF: \n",
      "              precision    recall  f1-score   support\n",
      "\n",
      "           0       0.99      0.97      0.98      3594\n",
      "           1       0.98      0.99      0.98      4325\n",
      "\n",
      "    accuracy                           0.98      7919\n",
      "   macro avg       0.98      0.98      0.98      7919\n",
      "weighted avg       0.98      0.98      0.98      7919\n",
      "\n"
     ]
    }
   ],
   "source": [
    "print(\"*Classification Report for RF: \")\n",
    "print(classification_report(y_test, predictions))"
   ]
  },
  {
   "cell_type": "markdown",
   "metadata": {},
   "source": [
    "# Decision Tree Classifier"
   ]
  },
  {
   "cell_type": "code",
   "execution_count": 23,
   "metadata": {},
   "outputs": [
    {
     "name": "stdout",
     "output_type": "stream",
     "text": [
      "*Confusion Matrix for DT: \n",
      "[[3566   28]\n",
      " [  48 4277]]\n"
     ]
    }
   ],
   "source": [
    "from sklearn import tree\n",
    "DT = tree.DecisionTreeClassifier()\n",
    "DT.fit(x_train, y_train)\n",
    "predictions = DT.predict(x_test)\n",
    "print(\"*Confusion Matrix for DT: \")\n",
    "print(confusion_matrix(y_test, predictions))"
   ]
  },
  {
   "cell_type": "code",
   "execution_count": 24,
   "metadata": {},
   "outputs": [
    {
     "name": "stdout",
     "output_type": "stream",
     "text": [
      "*Confusion Matrix for DT: \n",
      "[[3566   28]\n",
      " [  48 4277]]\n",
      "99.04028286399797\n",
      "*Classification Report for DT: \n",
      "              precision    recall  f1-score   support\n",
      "\n",
      "           0       0.99      0.99      0.99      3594\n",
      "           1       0.99      0.99      0.99      4325\n",
      "\n",
      "    accuracy                           0.99      7919\n",
      "   macro avg       0.99      0.99      0.99      7919\n",
      "weighted avg       0.99      0.99      0.99      7919\n",
      "\n"
     ]
    }
   ],
   "source": [
    "print(\"*Confusion Matrix for DT: \")\n",
    "print(confusion_matrix(y_test, predictions))\n",
    "val2 = accuracy_score(y_test, predictions) *100\n",
    "print(val2)\n",
    "print(\"*Classification Report for DT: \")\n",
    "print(classification_report(y_test, predictions))"
   ]
  },
  {
   "cell_type": "markdown",
   "metadata": {},
   "source": [
    "# KN Neighbors Classifier"
   ]
  },
  {
   "cell_type": "code",
   "execution_count": 25,
   "metadata": {},
   "outputs": [
    {
     "name": "stdout",
     "output_type": "stream",
     "text": [
      "*Confusion Matrix for KNN: \n",
      "[[3327  267]\n",
      " [1096 3229]]\n"
     ]
    }
   ],
   "source": [
    "from sklearn.neighbors import KNeighborsClassifier\n",
    "neigh = KNeighborsClassifier(n_neighbors=2)\n",
    "neigh.fit(x_train,y_train)\n",
    "predictions = neigh.predict(x_test)\n",
    "print(\"*Confusion Matrix for KNN: \")\n",
    "print(confusion_matrix(y_test, predictions))"
   ]
  },
  {
   "cell_type": "code",
   "execution_count": 26,
   "metadata": {},
   "outputs": [
    {
     "name": "stdout",
     "output_type": "stream",
     "text": [
      "*Confusion Matrix for KNN: \n",
      "[[3327  267]\n",
      " [1096 3229]]\n",
      "82.78823083722692\n",
      "*Classification Report for KNN: \n",
      "              precision    recall  f1-score   support\n",
      "\n",
      "           0       0.75      0.93      0.83      3594\n",
      "           1       0.92      0.75      0.83      4325\n",
      "\n",
      "    accuracy                           0.83      7919\n",
      "   macro avg       0.84      0.84      0.83      7919\n",
      "weighted avg       0.85      0.83      0.83      7919\n",
      "\n"
     ]
    }
   ],
   "source": [
    "print(\"*Confusion Matrix for KNN: \")\n",
    "print(confusion_matrix(y_test, predictions))\n",
    "val3 = accuracy_score(y_test, predictions) *100\n",
    "print(val3)\n",
    "print(\"*Classification Report for KNN: \")\n",
    "print(classification_report(y_test, predictions))"
   ]
  },
  {
   "cell_type": "markdown",
   "metadata": {},
   "source": [
    "# Naive Bayes"
   ]
  },
  {
   "cell_type": "code",
   "execution_count": 27,
   "metadata": {},
   "outputs": [
    {
     "name": "stdout",
     "output_type": "stream",
     "text": [
      "*Confusion Matrix for GNB: \n",
      "[[2549 1045]\n",
      " [ 893 3432]]\n"
     ]
    }
   ],
   "source": [
    "from sklearn.naive_bayes import GaussianNB\n",
    "neigh = GaussianNB()\n",
    "neigh.fit(x_train,y_train)\n",
    "predictions = neigh.predict(x_test)\n",
    "print(\"*Confusion Matrix for GNB: \")\n",
    "print(confusion_matrix(y_test, predictions))"
   ]
  },
  {
   "cell_type": "code",
   "execution_count": 28,
   "metadata": {},
   "outputs": [
    {
     "name": "stdout",
     "output_type": "stream",
     "text": [
      "*Confusion Matrix for GNB: \n",
      "[[2549 1045]\n",
      " [ 893 3432]]\n",
      "75.52721303194848\n",
      "*Classification Report for GNB: \n",
      "              precision    recall  f1-score   support\n",
      "\n",
      "           0       0.74      0.71      0.72      3594\n",
      "           1       0.77      0.79      0.78      4325\n",
      "\n",
      "    accuracy                           0.76      7919\n",
      "   macro avg       0.75      0.75      0.75      7919\n",
      "weighted avg       0.75      0.76      0.75      7919\n",
      "\n"
     ]
    }
   ],
   "source": [
    "print(\"*Confusion Matrix for GNB: \")\n",
    "print(confusion_matrix(y_test, predictions))\n",
    "val4 = accuracy_score(y_test, predictions) *100\n",
    "print(val4)\n",
    "print(\"*Classification Report for GNB: \")\n",
    "print(classification_report(y_test, predictions))"
   ]
  },
  {
   "cell_type": "markdown",
   "metadata": {},
   "source": [
    "# Voting Classifier"
   ]
  },
  {
   "cell_type": "code",
   "execution_count": 29,
   "metadata": {},
   "outputs": [
    {
     "name": "stdout",
     "output_type": "stream",
     "text": [
      "*Confusion Matrix for Voting Classifier: \n",
      "[[3464  130]\n",
      " [   8 4317]]\n"
     ]
    }
   ],
   "source": [
    "from sklearn.svm import SVC\n",
    "from sklearn.tree import DecisionTreeClassifier\n",
    "from sklearn.ensemble import RandomForestClassifier, VotingClassifier\n",
    "clf1 = SVC(gamma='auto')\n",
    "clf2 = RandomForestClassifier(n_estimators=50, random_state=1)\n",
    "clf3 = DecisionTreeClassifier()\n",
    "eclf1 = VotingClassifier(estimators=[('lr', clf1), ('rf', clf2), ('dt', clf3)], voting='hard')\n",
    "eclf1.fit(x_train,y_train)\n",
    "predictions = eclf1.predict(x_test)\n",
    "print(\"*Confusion Matrix for Voting Classifier: \")\n",
    "print(confusion_matrix(y_test, predictions))"
   ]
  },
  {
   "cell_type": "code",
   "execution_count": 30,
   "metadata": {},
   "outputs": [
    {
     "name": "stdout",
     "output_type": "stream",
     "text": [
      "*Confusion Matrix for Voting Classifier: \n",
      "[[3464  130]\n",
      " [   8 4317]]\n",
      "98.25735572673318\n",
      "*Classification Report for Voting Classifier: \n",
      "              precision    recall  f1-score   support\n",
      "\n",
      "           0       1.00      0.96      0.98      3594\n",
      "           1       0.97      1.00      0.98      4325\n",
      "\n",
      "    accuracy                           0.98      7919\n",
      "   macro avg       0.98      0.98      0.98      7919\n",
      "weighted avg       0.98      0.98      0.98      7919\n",
      "\n"
     ]
    }
   ],
   "source": [
    "print(\"*Confusion Matrix for Voting Classifier: \")\n",
    "print(confusion_matrix(y_test, predictions))\n",
    "val5 = accuracy_score(y_test, predictions) *100\n",
    "print(val5)\n",
    "print(\"*Classification Report for Voting Classifier: \")\n",
    "print(classification_report(y_test, predictions))"
   ]
  },
  {
   "cell_type": "markdown",
   "metadata": {},
   "source": [
    "# Accuracy Comparsion"
   ]
  },
  {
   "cell_type": "code",
   "execution_count": 31,
   "metadata": {},
   "outputs": [
    {
     "name": "stdout",
     "output_type": "stream",
     "text": [
      "[0 1 2 3 4]\n",
      "[98.20684429852254, 99.04028286399797, 82.78823083722692, 75.52721303194848, 98.25735572673318]\n"
     ]
    }
   ],
   "source": [
    "score = [val1,val2,val3,val4,val5]\n",
    "#make variabel for save the result and to show it\n",
    "classifier = ('Random Forest','Decision Tree','KNN','Gaussian Naive Bayes','Voting Classifier')\n",
    "y_pos = np.arange(len(classifier))\n",
    "print(y_pos)\n",
    "print(score)"
   ]
  },
  {
   "cell_type": "code",
   "execution_count": 32,
   "metadata": {},
   "outputs": [
    {
     "data": {
      "image/png": "[encoded data removed]",
      "text/plain": [
       "<Figure size 432x288 with 1 Axes>"
      ]
     },
     "metadata": {
      "needs_background": "light"
     },
     "output_type": "display_data"
    }
   ],
   "source": [
    "import matplotlib.pyplot as plt2\n",
    "plt2.barh(y_pos, score, align='center', alpha=0.5,color='blue')\n",
    "plt2.yticks(y_pos, classifier)\n",
    "plt2.xlabel('Score')\n",
    "plt2.title('Classification Performance')\n",
    "plt2.show()"
   ]
  },
  {
   "cell_type": "code",
   "execution_count": 33,
   "metadata": {},
   "outputs": [
    {
     "data": {
      "text/plain": [
       "['model.sav']"
      ]
     },
     "execution_count": 33,
     "metadata": {},
     "output_type": "execute_result"
    }
   ],
   "source": [
    "import joblib\n",
    "filename = 'model/model.sav'\n",
    "joblib.dump(DT, filename)"
   ]
  },
  {
   "cell_type": "code",
   "execution_count": null,
   "metadata": {},
   "outputs": [],
   "source": []
  }
 ],
 "metadata": {
  "kernelspec": {
   "display_name": "Python 3",
   "language": "python",
   "name": "python3"
  },
  "language_info": {
   "codemirror_mode": {
    "name": "ipython",
    "version": 3
   },
   "file_extension": ".py",
   "mimetype": "text/x-python",
   "name": "python",
   "nbconvert_exporter": "python",
   "pygments_lexer": "ipython3",
   "version": "3.7.4"
  }
 },
 "nbformat": 4,
 "nbformat_minor": 4
}
